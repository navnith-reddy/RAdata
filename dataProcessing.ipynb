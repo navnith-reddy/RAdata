{
 "cells": [
  {
   "cell_type": "code",
   "execution_count": 23,
   "metadata": {},
   "outputs": [
    {
     "name": "stdout",
     "output_type": "stream",
     "text": [
      "5.0     336\n",
      "14.0     81\n",
      "7.0      76\n",
      "2.0      27\n",
      "3.5      10\n",
      "10.5      8\n",
      "Name: BW (MHz), dtype: int64\n",
      "<bound method NDFrame.describe of 0      16.0\n",
      "1      16.0\n",
      "2      16.0\n",
      "3      16.0\n",
      "4      16.0\n",
      "       ... \n",
      "533    16.0\n",
      "534    16.0\n",
      "535    16.0\n",
      "536    16.0\n",
      "537    16.0\n",
      "Name: Antenna_Gain, Length: 538, dtype: float64>\n"
     ]
    }
   ],
   "source": [
    "import pandas as pd\n",
    "\n",
    "unwired = pd.read_excel('Data/20103_4akal.xlsx')\n",
    "\n",
    "# Remove search irrelevant data\n",
    "unwired = unwired[[\n",
    "    'Site_Mode',\n",
    "    'EIRP',\n",
    "    'EIRP_Unit',\n",
    "    'Antenna_Ht',\n",
    "    'Site_Name',\n",
    "    'Location',\n",
    "    'State',\n",
    "    'Antenna_Type',\n",
    "    'Antenna_Gain',\n",
    "    'Lic_BW',\n",
    "    'Licence_Sub_Type',\n",
    "    'Freq_Upper',\n",
    "    'Freq_Lower']]\n",
    "\n",
    "# Filter out Rx entries\n",
    "unwired = unwired[unwired['Site_Mode'] == 'T']\n",
    "\n",
    "# Hz to MHz\n",
    "unwired['Lic_BW'] = (unwired['Lic_BW'] / 1000000).round(3)\n",
    "unwired['Freq_Upper'] = (unwired['Freq_Upper'] / 1000000).round(7)\n",
    "unwired['Freq_Lower'] = (unwired['Freq_Lower'] / 1000000).round(7)\n",
    "unwired.rename(columns={'Lic_BW':'BW (MHz)'}, inplace=True)\n",
    "\n",
    "# 538 Tx entires\n",
    "unwired.reset_index(drop=True, inplace=True)\n",
    "unwired.to_excel('Data/unwired.xlsx')\n",
    "\n",
    "# Bandwidth Stats\n",
    "BWstats = unwired['BW (MHz)'].value_counts()\n",
    "print(BWstats)\n",
    "\n",
    "# Antenna Gain Stats\n",
    "AntennaGain = unwired['Antenna_Gain'].describe\n",
    "print(AntennaGain)"
   ]
  },
  {
   "cell_type": "markdown",
   "metadata": {},
   "source": [
    "## Summary of Unwired Deployments\n",
    "\n",
    "Summary of historical \n",
    "\n",
    "Total Tx entires = 538\n",
    "\n",
    "Bandwidth Distributions:\n",
    "\n",
    "| Bandwidth | No. of Devices | Percentage of Devices |\n",
    "| --------- | -------------- | --------------------- |\n",
    "| 2         | 27             | 5.02 %                |\n",
    "| 3.5       | 10             | 5.02 %                |\n",
    "| 5         | 336            | 5.02 %                |\n",
    "| 7         | 76             | 5.02 %                |\n",
    "| 10.5      | 8              | 5.02 %                |\n",
    "| 14        | 81             | 5.02 %                |"
   ]
  },
  {
   "cell_type": "markdown",
   "metadata": {},
   "source": []
  }
 ],
 "metadata": {
  "interpreter": {
   "hash": "f0d1c1d68a8b11a6c58ed859902f5c894adfce4901fe96b5a21c29a710eca8cf"
  },
  "kernelspec": {
   "display_name": "Python 3.10.4 64-bit (windows store)",
   "language": "python",
   "name": "python3"
  },
  "language_info": {
   "codemirror_mode": {
    "name": "ipython",
    "version": 3
   },
   "file_extension": ".py",
   "mimetype": "text/x-python",
   "name": "python",
   "nbconvert_exporter": "python",
   "pygments_lexer": "ipython3",
   "version": "3.10.2"
  },
  "orig_nbformat": 4
 },
 "nbformat": 4,
 "nbformat_minor": 2
}
